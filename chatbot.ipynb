{
 "cells": [
  {
   "cell_type": "code",
   "execution_count": null,
   "metadata": {},
   "outputs": [
    {
     "ename": "",
     "evalue": "",
     "output_type": "error",
     "traceback": [
      "\u001b[1;31mRunning cells with 'c:\\Python311\\python.exe' requires the ipykernel package.\n",
      "\u001b[1;31mRun the following command to install 'ipykernel' into the Python environment. \n",
      "\u001b[1;31mCommand: 'c:/Python311/python.exe -m pip install ipykernel -U --user --force-reinstall'"
     ]
    }
   ],
   "source": [
    "import random\n",
    "\n",
    "# Define a list of responses for different emotional states\n",
    "positive_responses = [\"That's great to hear!\", \"I'm glad you're feeling good.\", \"Stay positive!\"]\n",
    "negative_responses = [\"I'm here to listen. What's bothering you?\", \"It's okay to feel down sometimes. Talk to me.\", \"Let's work through this together.\"]\n",
    "\n",
    "# Create a function to respond to user input\n",
    "def respond_to_user(input_text):\n",
    "    input_text = input_text.lower()\n",
    "\n",
    "    # Analyze user's emotional state based on input\n",
    "    if \"happy\" in input_text or \"good\" in input_text:\n",
    "        return random.choice(positive_responses)\n",
    "    elif \"sad\" in input_text or \"depressed\" in input_text:\n",
    "        return random.choice(negative_responses)\n",
    "    else:\n",
    "        return \"I'm here to help with your mental health. Please feel free to share your thoughts and feelings.\"\n",
    "\n",
    "# Create a function to simulate the chatbot conversation\n",
    "def chat():\n",
    "    print(\"Mental Health Chatbot: Hi there! How can I assist you today? (Type 'exit' to end the conversation)\")\n",
    "\n",
    "    while True:\n",
    "        user_input = input(\"You: \")\n",
    "        if user_input.lower() == \"exit\":\n",
    "            print(\"Mental Health Chatbot: Thank you for talking with me. Take care.\")\n",
    "            break\n",
    "\n",
    "        response = respond_to_user(user_input)\n",
    "        print(\"Mental Health Chatbot:\", response)\n",
    "\n",
    "if __name__ == \"__main__\":\n",
    "    chat()\n"
   ]
  }
 ],
 "metadata": {
  "kernelspec": {
   "display_name": "Python 3",
   "language": "python",
   "name": "python3"
  },
  "language_info": {
   "name": "python",
   "version": "3.11.1"
  },
  "orig_nbformat": 4
 },
 "nbformat": 4,
 "nbformat_minor": 2
}
